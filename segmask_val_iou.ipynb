{
 "cells": [
  {
   "cell_type": "code",
   "execution_count": 1,
   "id": "4560213c",
   "metadata": {},
   "outputs": [],
   "source": [
    "import torchmetrics\n",
    "\n",
    "import numpy as np\n",
    "import matplotlib.pyplot as plt\n",
    "import os\n",
    "\n",
    "from tqdm import tqdm\n",
    "\n",
    "import torch\n",
    "import torch.nn as nn\n",
    "import torch.optim as optim\n",
    "import torch.nn.functional as F\n",
    "from torch.utils.data import Dataset, DataLoader"
   ]
  },
  {
   "cell_type": "code",
   "execution_count": 2,
   "id": "2e912339",
   "metadata": {},
   "outputs": [],
   "source": [
    "class FCN(nn.Module):\n",
    "    def __init__(self, num_classes):\n",
    "        super(FCN, self).__init__()\n",
    "        \n",
    "        # Branch Connectors\n",
    "        self.bc_u1_c2 = nn.ConvTranspose2d(64,64, kernel_size=4, stride=2, padding=1)\n",
    "        self.bcnorm1 = nn.BatchNorm2d(64)\n",
    "        \n",
    "        self.bc_u2_c3 = nn.ConvTranspose2d(128,128, kernel_size=4, stride=4, padding=0)\n",
    "        self.bcnorm2 = nn.BatchNorm2d(128)\n",
    "        \n",
    "        self.bc_u3_c4 = nn.ConvTranspose2d(128,128, kernel_size=8, stride=8, padding=0)\n",
    "        self.bcnorm3 = nn.BatchNorm2d(128)\n",
    "        \n",
    "        self.bc_u4_c5 = nn.ConvTranspose2d(128,128, kernel_size=8, stride=8, padding=0)\n",
    "        self.bcnorm4 = nn.BatchNorm2d(128)\n",
    "        \n",
    "        self.bc_u5_c6 = nn.ConvTranspose2d(128,128, kernel_size=4, stride=4, padding=0)\n",
    "        self.bcnorm5 = nn.BatchNorm2d(128)\n",
    "        \n",
    "        self.bc_u6_c7 = nn.ConvTranspose2d(128,128, kernel_size=4, stride=2, padding=1)\n",
    "        self.bcnorm6 = nn.BatchNorm2d(128)\n",
    "        \n",
    "        \n",
    "        # First branch of the network\n",
    "\n",
    "        self.conv1 = nn.Conv2d(3, 64, kernel_size=3, padding=1)\n",
    "\n",
    "        self.conv2 = nn.Conv2d(64*2, 128, kernel_size=5, padding=2)\n",
    "        self.bnorm1 = nn.BatchNorm2d(128)\n",
    "        \n",
    "        self.conv3 = nn.Conv2d(128*2, 128, kernel_size=9, padding=4)\n",
    "        \n",
    "        self.conv4 = nn.Conv2d(128*2, 128, kernel_size=15, padding=7)\n",
    "        self.bnorm2 = nn.BatchNorm2d(128)\n",
    "\n",
    "        self.conv5 = nn.Conv2d(128*2, 128, kernel_size=15, padding=7)\n",
    "        self.bnorm3 = nn.BatchNorm2d(128)\n",
    "        \n",
    "        self.conv6 = nn.Conv2d(128*2,128, kernel_size=9, padding=4)\n",
    "        \n",
    "        self.conv7 = nn.Conv2d(128*2,64, kernel_size=5, padding=2)\n",
    "        self.bnorm4 = nn.BatchNorm2d(64)\n",
    "                \n",
    "        \n",
    "        # Second branch of the network\n",
    "        # b, 3, 160, 240\n",
    "        self.uconv1 = nn.Conv2d(3, 64, kernel_size=3, stride=2, padding=1)\n",
    "\n",
    "        # b, 64, 80, 120\n",
    "        self.uconv2 = nn.Conv2d(64, 128, kernel_size=5, padding=2)\n",
    "        self.ump1 = nn.MaxPool2d(kernel_size= 2)\n",
    "        self.ubnorm1 = nn.BatchNorm2d(128)\n",
    "        \n",
    "        # b, 128, 40, 60\n",
    "        self.uconv3 = nn.Conv2d(128, 128, kernel_size=9, padding=4)\n",
    "        self.ump2 = nn.MaxPool2d(kernel_size= 2)\n",
    "        \n",
    "        # b, 128, 20, 30\n",
    "        self.uconv4 = nn.Conv2d(128, 128, kernel_size=15, padding=7)\n",
    "        self.ubnorm2 = nn.BatchNorm2d(128)\n",
    "\n",
    "        # b, 128, 20, 30\n",
    "        self.uconv5 = nn.Conv2d(128, 128, kernel_size=15, padding=7)\n",
    "        self.ubnorm3 = nn.BatchNorm2d(128)\n",
    "        self.upsamp1 = nn.ConvTranspose2d(128,128, kernel_size=4, stride=2, padding=1)\n",
    "        \n",
    "        # b, 128, 40, 60\n",
    "        self.uconv6 = nn.Conv2d(128,128, kernel_size=9, padding= 4)\n",
    "        self.upsamp2 = nn.ConvTranspose2d(128,128, kernel_size=4, stride=2, padding=1)\n",
    "        \n",
    "        # b, 128, 80, 120\n",
    "        self.uconv7 = nn.Conv2d(128,128, kernel_size=5, padding = 2)\n",
    "        self.upsamp3 = nn.ConvTranspose2d(128,64, kernel_size=4, stride=2, padding=1)\n",
    "        self.ubnorm4 = nn.BatchNorm2d(64)\n",
    "        # b, 64, 160, 240\n",
    "        \n",
    "        \n",
    "        # Final layer of the network\n",
    "        # x: b, 64, 160, 240 and x_u: b, 64, 160, 240\n",
    "        # Overall input shape for final layer: b, 128, 160, 240\n",
    "        self.conv8 = nn.Conv2d(64*2, num_classes, kernel_size=3, padding = 1)\n",
    "\n",
    "        \n",
    "        \n",
    "    def forward(self, x):\n",
    "        \n",
    "        x_u = x.clone().to(device)\n",
    "#         print(f'layer 1 inputs: x: {x.shape}, x_u: {x_u.shape}')\n",
    "        \n",
    "        # LAYER 1\n",
    "        # x: batch, 3, 160, 240\n",
    "        # x_u: batch, 3, 160, 240\n",
    "        x = self.conv1(x)\n",
    "        x = F.relu(x)\n",
    "\n",
    "        x_u = self.uconv1(x_u)\n",
    "        x_u = F.relu(x_u)\n",
    "#         print('uconv 1:',x_u.shape)\n",
    "        \n",
    "\n",
    "        # LAYER 2\n",
    "        # x: batch, 64, 160, 240\n",
    "        # x_u: batch, 64, 80, 120\n",
    "#         print(f'layer 2 inputs: x: {x.shape}, x_u: {x_u.shape}')\n",
    "        x_u_upsampled = self.bc_u1_c2(x_u)\n",
    "        x = torch.cat([x,x_u_upsampled], axis = 1)\n",
    "        x = self.conv2(x)\n",
    "        x = self.bnorm1(x)\n",
    "        x = F.relu(x)\n",
    "        \n",
    "        x_u = self.uconv2(x_u)\n",
    "        x_u = self.ump1(x_u)\n",
    "        x_u = self.ubnorm1(x_u)\n",
    "        x_u = F.relu(x_u)\n",
    "#         print('uconv 2:',x_u.shape)\n",
    "        \n",
    "        \n",
    "\n",
    "        # LAYER 3\n",
    "        # x: batch, 128, 160, 240\n",
    "        # x_u: batch, 128, 40, 60\n",
    "#         print(f'layer 3 inputs: x: {x.shape}, x_u: {x_u.shape}')\n",
    "        x_u_upsampled = self.bc_u2_c3(x_u)\n",
    "        x = torch.cat([x,x_u_upsampled], axis = 1)\n",
    "        x = self.conv3(x)\n",
    "        x = F.relu(x)\n",
    "        \n",
    "        x_u = self.uconv3(x_u)\n",
    "        x_u = self.ump1(x_u)\n",
    "        x_u = F.relu(x_u)\n",
    "#         print('uconv 3:',x_u.shape)\n",
    "\n",
    "        \n",
    "\n",
    "        # LAYER 4\n",
    "        # x: batch, 128, 160, 240\n",
    "        # x_u: batch, 128, 20, 30\n",
    "#         print(f'layer 4 inputs: x: {x.shape}, x_u: {x_u.shape}')\n",
    "        x_u_upsampled = self.bc_u3_c4(x_u)\n",
    "#         print(x_u_upsampled.shape)\n",
    "        x = torch.cat([x,x_u_upsampled], axis = 1)\n",
    "        x = self.conv4(x)\n",
    "        x = self.bnorm2(x)\n",
    "        x = F.relu(x)\n",
    "\n",
    "        x_u = self.uconv4(x_u)\n",
    "        x_u = self.ubnorm2(x_u)\n",
    "        x_u = F.relu(x_u)\n",
    "#         print('uconv 4:',x_u.shape)   \n",
    "\n",
    "        \n",
    "\n",
    "        # LAYER 5\n",
    "        # x: batch, 128, 160, 240\n",
    "        # x_u: batch, 128, 20, 30\n",
    "#         print(f'layer 5 inputs: x: {x.shape}, x_u: {x_u.shape}')\n",
    "        x_u_upsampled = self.bc_u4_c5(x_u)\n",
    "        x = torch.cat([x,x_u_upsampled], axis = 1)\n",
    "        x = self.conv5(x)\n",
    "        x = self.bnorm3(x)\n",
    "        x = F.relu(x)\n",
    "\n",
    "        x_u = self.uconv5(x_u)\n",
    "#         print(x.shape)\n",
    "        x_u = self.ubnorm3(x_u)\n",
    "        x_u = self.upsamp1(x_u)\n",
    "        x_u = F.relu(x_u)\n",
    "#         print('uconv 5:',x_u.shape)\n",
    "        \n",
    "        \n",
    "\n",
    "        # LAYER 6\n",
    "        # x: batch, 128, 160, 240\n",
    "        # x_u: batch, 128, 40, 60\n",
    "#         print(f'layer 6 inputs: x: {x.shape}, x_u: {x_u.shape}')\n",
    "        x_u_upsampled = self.bc_u5_c6(x_u)\n",
    "        x = torch.cat([x,x_u_upsampled], axis = 1)\n",
    "        x = self.conv6(x)\n",
    "        x = F.relu(x)\n",
    "\n",
    "        x_u = self.uconv6(x_u)\n",
    "        x_u = self.upsamp2(x_u)\n",
    "        x_u = F.relu(x_u)\n",
    "#         print('uconv 6:',x_u.shape)\n",
    "\n",
    "        \n",
    "\n",
    "        # LAYER 7\n",
    "        # x: batch, 128, 160, 240\n",
    "        # x_u: batch, 128, 80, 120\n",
    "#         print(f'layer 7 inputs: x: {x.shape}, x_u: {x_u.shape}')\n",
    "        x_u_upsampled = self.bc_u6_c7(x_u)\n",
    "        x = torch.cat([x,x_u_upsampled], axis = 1)\n",
    "        x = self.conv7(x)\n",
    "        x = F.relu(x)\n",
    "        x = self.bnorm4(x)\n",
    "\n",
    "        x_u = self.uconv7(x_u)\n",
    "        x_u = F.relu(x_u)\n",
    "        x_u = self.upsamp3(x_u)\n",
    "        x_u = self.ubnorm4(x_u)\n",
    "#         print('uconv 7:',x_u.shape)\n",
    "\n",
    "\n",
    "        \n",
    "        # LAYER 8 : Final\n",
    "        # x: batch, 64, 160, 240\n",
    "        # x_u: batch, 64, 80, 120\n",
    "#         print(f'layer 8 inputs: x: {x.shape}, x_u: {x_u.shape}')\n",
    "#         x_u_upsampled = self.bc_u6_c7(x_u)\n",
    "        x = torch.cat([x,x_u], axis = 1)\n",
    "        x = self.conv8(x)\n",
    "#         print('Final:',x.shape)\n",
    "        \n",
    "        # x: batch, 49, 160, 240\n",
    "        return x"
   ]
  },
  {
   "cell_type": "code",
   "execution_count": 3,
   "id": "755ed329",
   "metadata": {},
   "outputs": [
    {
     "name": "stderr",
     "output_type": "stream",
     "text": [
      "/var/folders/rh/n2cbgqsn1lg3d9yst_p78zxr0000gn/T/ipykernel_22811/417769785.py:14: UserWarning: To copy construct from a tensor, it is recommended to use sourceTensor.clone().detach() or sourceTensor.clone().detach().requires_grad_(True), rather than torch.tensor(sourceTensor).\n",
      "  all_sequences.append(torch.tensor(frames))\n"
     ]
    },
    {
     "name": "stdout",
     "output_type": "stream",
     "text": [
      "All frames and masks loaded,\n",
      "Shape of frames : torch.Size([22000, 160, 240, 3]), Shape of masks: torch.Size([22000, 160, 240])\n"
     ]
    }
   ],
   "source": [
    "all_sequences = []\n",
    "all_sequence_masks = []\n",
    "\n",
    "# num_videos = 1000\n",
    "num_frames_per_video = 22\n",
    "\n",
    "for i in range(1000, 2000):\n",
    "    frames = torch.tensor([])\n",
    "    base_dir = f\"./../Dataset_Student/val/video_{i}/\"\n",
    "    image_names = [f'image_{i}.png' for i in range(num_frames_per_video)]\n",
    "    for file_name in image_names:\n",
    "        img = plt.imread(base_dir + file_name)\n",
    "        frames = torch.cat([frames,torch.tensor(img).unsqueeze(0)], dim = 0)\n",
    "    all_sequences.append(torch.tensor(frames))\n",
    "    mask = np.load(base_dir + 'mask.npy')\n",
    "    all_sequence_masks.append(torch.tensor(mask))\n",
    "\n",
    "all_frames = torch.cat([i for i in all_sequences], dim = 0)\n",
    "all_masks = torch.cat([i for i in all_sequence_masks], dim = 0)\n",
    "print(f\"All frames and masks loaded,\\nShape of frames : {all_frames.shape}, Shape of masks: {all_masks.shape}\")"
   ]
  },
  {
   "cell_type": "code",
   "execution_count": 4,
   "id": "77c2eeff",
   "metadata": {},
   "outputs": [],
   "source": [
    "class CustomDataset(Dataset):\n",
    "    def __init__(self, all_frames, all_masks):\n",
    "        self.frames = torch.tensor(all_frames).permute(0, 3, 1, 2)\n",
    "        self.masks = all_masks.to(device)\n",
    "    def __len__(self):\n",
    "        return len(self.frames)\n",
    "\n",
    "    def __getitem__(self, idx):\n",
    "        frame = self.frames[idx]\n",
    "        mask = self.masks[idx]\n",
    "        return frame, mask"
   ]
  },
  {
   "cell_type": "code",
   "execution_count": 5,
   "id": "3cac9cde",
   "metadata": {},
   "outputs": [
    {
     "name": "stdout",
     "output_type": "stream",
     "text": [
      "cpu\n"
     ]
    }
   ],
   "source": [
    "num_classes = 49\n",
    "batch_size = 16\n",
    "\n",
    "# device = torch.device('mps' if torch.backends.mps.is_available() else 'cpu')\n",
    "device = torch.device('cpu')\n",
    "\n",
    "print(device)"
   ]
  },
  {
   "cell_type": "code",
   "execution_count": 6,
   "id": "a117ed3b",
   "metadata": {},
   "outputs": [
    {
     "data": {
      "text/plain": [
       "<All keys matched successfully>"
      ]
     },
     "execution_count": 6,
     "metadata": {},
     "output_type": "execute_result"
    }
   ],
   "source": [
    "model = FCN(num_classes)\n",
    "checkpoint = torch.load('fcn_model_e23.pth', map_location=torch.device('cpu'))\n",
    "model = nn.DataParallel(model)\n",
    "model.load_state_dict(checkpoint)"
   ]
  },
  {
   "cell_type": "code",
   "execution_count": 7,
   "id": "454ffca6",
   "metadata": {},
   "outputs": [
    {
     "name": "stderr",
     "output_type": "stream",
     "text": [
      "/var/folders/rh/n2cbgqsn1lg3d9yst_p78zxr0000gn/T/ipykernel_22811/1687092027.py:3: UserWarning: To copy construct from a tensor, it is recommended to use sourceTensor.clone().detach() or sourceTensor.clone().detach().requires_grad_(True), rather than torch.tensor(sourceTensor).\n",
      "  self.frames = torch.tensor(all_frames).permute(0, 3, 1, 2)\n"
     ]
    }
   ],
   "source": [
    "test_dataset = CustomDataset(all_frames, all_masks)\n",
    "test_loader = DataLoader(test_dataset, batch_size=batch_size, shuffle=False)"
   ]
  },
  {
   "cell_type": "code",
   "execution_count": 8,
   "id": "691f8094",
   "metadata": {},
   "outputs": [],
   "source": [
    "criterion = nn.CrossEntropyLoss()\n",
    "jaccard = torchmetrics.JaccardIndex(task=\"multiclass\", num_classes=49).to(device)"
   ]
  },
  {
   "cell_type": "code",
   "execution_count": null,
   "id": "a8e2c7d2",
   "metadata": {},
   "outputs": [
    {
     "name": "stderr",
     "output_type": "stream",
     "text": [
      "  0%|                                      | 1/1375 [02:58<68:01:49, 178.25s/it]"
     ]
    },
    {
     "name": "stdout",
     "output_type": "stream",
     "text": [
      "0.014479945413768291 tensor(0.3275)\n"
     ]
    },
    {
     "name": "stderr",
     "output_type": "stream",
     "text": [
      "\r",
      "  0%|                                      | 2/1375 [05:54<67:35:18, 177.22s/it]"
     ]
    },
    {
     "name": "stdout",
     "output_type": "stream",
     "text": [
      "0.009899668395519257 tensor(0.9696)\n"
     ]
    },
    {
     "name": "stderr",
     "output_type": "stream",
     "text": [
      "\r",
      "  0%|                                      | 3/1375 [08:51<67:32:41, 177.23s/it]"
     ]
    },
    {
     "name": "stdout",
     "output_type": "stream",
     "text": [
      "0.008109809830784798 tensor(0.7098)\n"
     ]
    },
    {
     "name": "stderr",
     "output_type": "stream",
     "text": [
      "\r",
      "  0%|                                      | 4/1375 [11:51<67:49:14, 178.09s/it]"
     ]
    },
    {
     "name": "stdout",
     "output_type": "stream",
     "text": [
      "0.006035519298166037 tensor(0.8486)\n"
     ]
    },
    {
     "name": "stderr",
     "output_type": "stream",
     "text": [
      "\r",
      "  0%|▏                                     | 5/1375 [14:50<67:54:44, 178.46s/it]"
     ]
    },
    {
     "name": "stdout",
     "output_type": "stream",
     "text": [
      "0.010141019709408283 tensor(0.7112)\n"
     ]
    },
    {
     "name": "stderr",
     "output_type": "stream",
     "text": [
      "\r",
      "  0%|▏                                     | 6/1375 [17:48<67:49:55, 178.38s/it]"
     ]
    },
    {
     "name": "stdout",
     "output_type": "stream",
     "text": [
      "0.009085544385015965 tensor(0.8875)\n"
     ]
    },
    {
     "name": "stderr",
     "output_type": "stream",
     "text": [
      "\r",
      "  1%|▏                                     | 7/1375 [20:44<67:28:35, 177.57s/it]"
     ]
    },
    {
     "name": "stdout",
     "output_type": "stream",
     "text": [
      "0.0062121059745550156 tensor(0.4785)\n"
     ]
    },
    {
     "name": "stderr",
     "output_type": "stream",
     "text": [
      "\r",
      "  1%|▏                                     | 8/1375 [23:32<66:17:27, 174.58s/it]"
     ]
    },
    {
     "name": "stdout",
     "output_type": "stream",
     "text": [
      "0.009452897123992443 tensor(0.6601)\n"
     ]
    },
    {
     "name": "stderr",
     "output_type": "stream",
     "text": [
      "\r",
      "  1%|▏                                     | 9/1375 [26:19<65:15:23, 171.98s/it]"
     ]
    },
    {
     "name": "stdout",
     "output_type": "stream",
     "text": [
      "0.0056054191663861275 tensor(0.8424)\n"
     ]
    },
    {
     "name": "stderr",
     "output_type": "stream",
     "text": [
      "\r",
      "  1%|▎                                    | 10/1375 [29:06<64:41:50, 170.63s/it]"
     ]
    },
    {
     "name": "stdout",
     "output_type": "stream",
     "text": [
      "0.006554601714015007 tensor(0.8847)\n"
     ]
    },
    {
     "name": "stderr",
     "output_type": "stream",
     "text": [
      "\r",
      "  1%|▎                                    | 11/1375 [32:12<66:22:30, 175.18s/it]"
     ]
    },
    {
     "name": "stdout",
     "output_type": "stream",
     "text": [
      "0.016558490693569183 tensor(0.4832)\n"
     ]
    }
   ],
   "source": [
    "ious = []\n",
    "total_loss = 0\n",
    "for images, masks in tqdm(test_loader):\n",
    "    outputs = model(images)\n",
    "    masks = masks.long()\n",
    "    loss = criterion(outputs, masks)\n",
    "    total_loss += loss.item()\n",
    "    ious.append(jaccard(torch.argmax(torch.softmax(outputs, dim=1), dim=1), masks))\n",
    "    print(loss.item(), ious[-1])"
   ]
  },
  {
   "cell_type": "code",
   "execution_count": 10,
   "id": "2a87507c",
   "metadata": {},
   "outputs": [],
   "source": [
    "outputs = model(images)"
   ]
  },
  {
   "cell_type": "code",
   "execution_count": null,
   "id": "13ad39dc",
   "metadata": {},
   "outputs": [
    {
     "data": {
      "text/plain": [
       "<matplotlib.image.AxesImage at 0x7fe5253dd430>"
      ]
     },
     "execution_count": 23,
     "metadata": {},
     "output_type": "execute_result"
    }
   ],
   "source": [
    "plt.imshow(masks[3])"
   ]
  },
  {
   "cell_type": "code",
   "execution_count": 20,
   "id": "8b6fc00a",
   "metadata": {},
   "outputs": [
    {
     "data": {
      "text/plain": [
       "<matplotlib.image.AxesImage at 0x7fe5252019d0>"
      ]
     },
     "execution_count": 20,
     "metadata": {},
     "output_type": "execute_result"
    },
    {
     "data": {
      "image/png": "[encoded data removed]",
      "text/plain": [
       "<Figure size 640x480 with 1 Axes>"
      ]
     },
     "metadata": {},
     "output_type": "display_data"
    }
   ],
   "source": [
    "plt.imshow(images[3].permute(1, 2, 0))"
   ]
  },
  {
   "cell_type": "code",
   "execution_count": 19,
   "id": "50851784",
   "metadata": {},
   "outputs": [
    {
     "data": {
      "text/plain": [
       "<matplotlib.image.AxesImage at 0x7fe52518af40>"
      ]
     },
     "execution_count": 19,
     "metadata": {},
     "output_type": "execute_result"
    },
    {
     "data": {
      "image/png": "[encoded data removed]",
      "text/plain": [
       "<Figure size 640x480 with 1 Axes>"
      ]
     },
     "metadata": {},
     "output_type": "display_data"
    }
   ],
   "source": [
    "plt.imshow(torch.argmax(torch.softmax(outputs[3], dim=0), dim=0))"
   ]
  },
  {
   "cell_type": "code",
   "execution_count": 17,
   "id": "8f995b1d",
   "metadata": {},
   "outputs": [
    {
     "data": {
      "text/plain": [
       "tensor(0.9853)"
      ]
     },
     "execution_count": 17,
     "metadata": {},
     "output_type": "execute_result"
    }
   ],
   "source": [
    "jaccard(torch.argmax(torch.softmax(outputs, dim=1), dim=1), masks)"
   ]
  },
  {
   "cell_type": "code",
   "execution_count": 22,
   "id": "a1152f49",
   "metadata": {},
   "outputs": [
    {
     "data": {
      "text/plain": [
       "torch.Size([4, 49, 160, 240])"
      ]
     },
     "execution_count": 22,
     "metadata": {},
     "output_type": "execute_result"
    }
   ],
   "source": [
    "outputs.shape"
   ]
  },
  {
   "cell_type": "code",
   "execution_count": null,
   "id": "ec0be2fe",
   "metadata": {},
   "outputs": [],
   "source": []
  }
 ],
 "metadata": {
  "kernelspec": {
   "display_name": "Python 3 (ipykernel)",
   "language": "python",
   "name": "python3"
  },
  "language_info": {
   "codemirror_mode": {
    "name": "ipython",
    "version": 3
   },
   "file_extension": ".py",
   "mimetype": "text/x-python",
   "name": "python",
   "nbconvert_exporter": "python",
   "pygments_lexer": "ipython3",
   "version": "3.9.13"
  }
 },
 "nbformat": 4,
 "nbformat_minor": 5
}
