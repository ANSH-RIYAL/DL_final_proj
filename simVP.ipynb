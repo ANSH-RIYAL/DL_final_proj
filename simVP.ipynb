{
 "cells": [
  {
   "cell_type": "code",
   "execution_count": 1,
   "id": "f4db0bae",
   "metadata": {},
   "outputs": [],
   "source": [
    "import matplotlib.pyplot as plt\n",
    "from tqdm import tqdm\n",
    "import os\n",
    "\n",
    "import numpy as np\n",
    "\n",
    "import torch\n",
    "import torch.nn as nn\n",
    "import torch.optim as optim\n",
    "import torch.nn.functional as F\n",
    "from torch.utils.data import Dataset, DataLoader"
   ]
  },
  {
   "cell_type": "code",
   "execution_count": 2,
   "id": "335d7547",
   "metadata": {},
   "outputs": [
    {
     "name": "stdout",
     "output_type": "stream",
     "text": [
      "cpu\n"
     ]
    }
   ],
   "source": [
    "# device = torch.device('cuda' if torch.backends.cuda.is_available() else 'cpu')\n",
    "device = torch.device('mps' if torch.backends.mps.is_available() else 'cpu')\n",
    "device = torch.device('cpu')\n",
    "print(device)"
   ]
  },
  {
   "cell_type": "code",
   "execution_count": 3,
   "id": "16ed8c44",
   "metadata": {},
   "outputs": [
    {
     "data": {
      "text/plain": [
       "['image_15.png',\n",
       " 'image_14.png',\n",
       " 'image_16.png',\n",
       " 'image_17.png',\n",
       " 'image_13.png',\n",
       " 'image_12.png',\n",
       " 'image_10.png',\n",
       " 'image_11.png',\n",
       " 'image_8.png',\n",
       " 'image_9.png',\n",
       " 'image_2.png',\n",
       " 'image_3.png',\n",
       " 'image_1.png',\n",
       " 'image_0.png',\n",
       " 'image_4.png',\n",
       " 'image_5.png',\n",
       " 'image_7.png',\n",
       " 'image_6.png',\n",
       " 'image_20.png',\n",
       " 'image_21.png',\n",
       " 'image_19.png',\n",
       " 'image_18.png']"
      ]
     },
     "execution_count": 3,
     "metadata": {},
     "output_type": "execute_result"
    }
   ],
   "source": [
    "os.listdir('./../Dataset_Student/unlabeled/video_10000/')"
   ]
  },
  {
   "cell_type": "code",
   "execution_count": 4,
   "id": "fc1ea061",
   "metadata": {},
   "outputs": [
    {
     "data": {
      "text/plain": [
       "(160, 240, 3)"
      ]
     },
     "execution_count": 4,
     "metadata": {},
     "output_type": "execute_result"
    }
   ],
   "source": [
    "frames = []\n",
    "\n",
    "base_dir = './../Dataset_Student/unlabeled/video_10000/'\n",
    "\n",
    "image_names = [f'image_{i}.png' for i in range(22)]\n",
    "\n",
    "for file_name in image_names:\n",
    "    img = plt.imread(base_dir + file_name)\n",
    "    frames.append(img)\n",
    "# plt.imshow(frames[3])\n",
    "frames[3].shape"
   ]
  },
  {
   "cell_type": "code",
   "execution_count": 5,
   "id": "ba672ac6",
   "metadata": {},
   "outputs": [],
   "source": [
    "class CustomDataset(Dataset):\n",
    "    def __init__(self, n_videos):\n",
    "        self.video_idxs = torch.tensor([i for i in range(10000, n_videos+10000)])\n",
    "\n",
    "    def __len__(self):\n",
    "        return len(self.video_idxs)\n",
    "\n",
    "    def __getitem__(self, idx):\n",
    "#         global net_id\n",
    "        i = self.video_idxs[idx]\n",
    "        file_path = f'./../Dataset_Student/unlabeled/video_{i}/'\n",
    "        x = []\n",
    "        for j in range(11):\n",
    "            x.append(torch.tensor(plt.imread(file_path+f'image_{j}.png')).permute(2, 0, 1))\n",
    "        x = torch.stack(x, 0)\n",
    "        y = []\n",
    "        for j in range(11, 22):\n",
    "            y.append(torch.tensor(plt.imread(file_path+f'image_{j}.png')).permute(2, 0, 1))\n",
    "        y = torch.stack(y, 0)\n",
    "        return x, y"
   ]
  },
  {
   "cell_type": "code",
   "execution_count": 6,
   "id": "f26dc01d",
   "metadata": {},
   "outputs": [],
   "source": [
    "batch_size = 8\n",
    "\n",
    "# Create DataLoader\n",
    "train_dataset = CustomDataset(5)\n",
    "train_loader = DataLoader(train_dataset, batch_size=batch_size, shuffle=True)"
   ]
  },
  {
   "cell_type": "code",
   "execution_count": 7,
   "id": "99867f46",
   "metadata": {},
   "outputs": [
    {
     "name": "stdout",
     "output_type": "stream",
     "text": [
      "torch.Size([5, 11, 3, 160, 240]) torch.Size([5, 11, 3, 160, 240])\n"
     ]
    }
   ],
   "source": [
    "for x, y in train_loader:\n",
    "    print(x.shape, y.shape)\n",
    "    break"
   ]
  },
  {
   "cell_type": "code",
   "execution_count": 8,
   "id": "65df6ffa",
   "metadata": {},
   "outputs": [],
   "source": [
    "# [1, 2, 1, 2]"
   ]
  },
  {
   "cell_type": "code",
   "execution_count": 9,
   "id": "e6e6008e",
   "metadata": {},
   "outputs": [],
   "source": [
    "class Encoder(nn.Module):\n",
    "    def __init__(self, in_channels, hid_channels):\n",
    "        super().__init__()\n",
    "        self.inp_enc = nn.Sequential(nn.Conv2d(in_channels, hid_channels, kernel_size=3, stride=1, padding=1),\n",
    "                                 nn.GroupNorm(2, hid_channels),\n",
    "                                 nn.LeakyReLU(0.2))\n",
    "        self.enc = nn.Sequential(nn.Conv2d(hid_channels, hid_channels, kernel_size=3, stride=2, padding=1),\n",
    "                                 nn.GroupNorm(2, hid_channels),\n",
    "                                 nn.LeakyReLU(0.2),\n",
    "                                 nn.Conv2d(hid_channels, hid_channels, kernel_size=3, stride=1, padding=1),\n",
    "                                 nn.GroupNorm(2, hid_channels),\n",
    "                                 nn.LeakyReLU(0.2),\n",
    "                                 nn.Conv2d(hid_channels, hid_channels, kernel_size=3, stride=2, padding=1),\n",
    "                                 nn.GroupNorm(2, hid_channels),\n",
    "                                 nn.LeakyReLU(0.2))\n",
    "    def forward(self, x):\n",
    "#         b, t, c, h, w = x.shape\n",
    "#         x = self.inp_enc(x.view(b*t, c, h, w))\n",
    "        x = self.inp_enc(x)\n",
    "        res = x.clone()\n",
    "        x = self.enc(x)\n",
    "        return x, res"
   ]
  },
  {
   "cell_type": "code",
   "execution_count": 10,
   "id": "2fa6f77d",
   "metadata": {},
   "outputs": [],
   "source": [
    "class GroupConv2d(nn.Module):\n",
    "    def __init__(self, in_channels, out_channels, kernel_size, stride, padding, groups, act_norm=False):\n",
    "        super(GroupConv2d, self).__init__()\n",
    "        self.act_norm = act_norm\n",
    "        if in_channels % groups != 0:\n",
    "            groups = 1\n",
    "        self.conv = nn.Conv2d(in_channels, out_channels, kernel_size=kernel_size, stride=stride, \n",
    "                              padding=padding,groups=groups)\n",
    "        self.norm = nn.GroupNorm(groups,out_channels)\n",
    "        self.activate = nn.LeakyReLU(0.2)\n",
    "    \n",
    "    def forward(self, x):\n",
    "        y = self.conv(x)\n",
    "        if self.act_norm:\n",
    "            y = self.activate(self.norm(y))\n",
    "        return y"
   ]
  },
  {
   "cell_type": "code",
   "execution_count": 11,
   "id": "5d25dfe9",
   "metadata": {},
   "outputs": [],
   "source": [
    "class Inception(nn.Module):\n",
    "    def __init__(self, C_in, C_hid, C_out, incep_ker=[3,5,7,11], groups=8):        \n",
    "        super().__init__()\n",
    "        self.conv1 = nn.Conv2d(C_in, C_hid, kernel_size=1, stride=1, padding=0)\n",
    "        layers = []\n",
    "        for ker in incep_ker:\n",
    "            layers.append(GroupConv2d(C_hid, C_out, kernel_size=ker, stride=1, padding=ker//2, \n",
    "                                      groups=groups, act_norm=True))\n",
    "        self.layers = nn.Sequential(*layers)\n",
    "\n",
    "    def forward(self, x):\n",
    "        x = self.conv1(x)\n",
    "        y = 0\n",
    "        for layer in self.layers:\n",
    "            y += layer(x)\n",
    "        return y"
   ]
  },
  {
   "cell_type": "code",
   "execution_count": 12,
   "id": "542317c0",
   "metadata": {},
   "outputs": [],
   "source": [
    "class Translator(nn.Module):\n",
    "    def __init__(self, channel_in, channel_hid, N_T, incep_ker=[3,5,7,11], groups=8):\n",
    "        super().__init__()\n",
    "\n",
    "        self.N_T = N_T\n",
    "        enc_layers = [Inception(channel_in, channel_hid//2, channel_hid, incep_ker= incep_ker, groups=groups)]\n",
    "        for i in range(1, N_T-1):\n",
    "            enc_layers.append(Inception(channel_hid, channel_hid//2, channel_hid, incep_ker= incep_ker, groups=groups))\n",
    "        enc_layers.append(Inception(channel_hid, channel_hid//2, channel_hid, incep_ker= incep_ker, groups=groups))\n",
    "\n",
    "        dec_layers = [Inception(channel_hid, channel_hid//2, channel_hid, incep_ker= incep_ker, groups=groups)]\n",
    "        for i in range(1, N_T-1):\n",
    "            dec_layers.append(Inception(2*channel_hid, channel_hid//2, channel_hid, incep_ker= incep_ker, groups=groups))\n",
    "        dec_layers.append(Inception(2*channel_hid, channel_hid//2, channel_in, incep_ker= incep_ker, groups=groups))\n",
    "\n",
    "        self.enc = nn.Sequential(*enc_layers)\n",
    "        self.dec = nn.Sequential(*dec_layers)\n",
    "\n",
    "    def forward(self, x):\n",
    "        B, T, C, H, W = x.shape\n",
    "        x = x.reshape(B, T*C, H, W)\n",
    "\n",
    "        # Encoder\n",
    "        skips = []\n",
    "        z = x\n",
    "        for i in range(self.N_T):\n",
    "            z = self.enc[i](z)\n",
    "            if i < self.N_T - 1:\n",
    "                skips.append(z)\n",
    "\n",
    "        # Decoder\n",
    "        z = self.dec[0](z)\n",
    "        for i in range(1, self.N_T):\n",
    "            z = self.dec[i](torch.cat([z, skips[-i]], dim=1))\n",
    "\n",
    "        y = z.reshape(B, T, C, H, W)\n",
    "        return y"
   ]
  },
  {
   "cell_type": "code",
   "execution_count": 13,
   "id": "1eda0645",
   "metadata": {},
   "outputs": [],
   "source": [
    "# [2, 1, 2, 1]\n",
    "class Decoder(nn.Module):\n",
    "    def __init__(self, hid_channels, out_channels):\n",
    "        super().__init__()\n",
    "        self.dec = nn.Sequential(nn.ConvTranspose2d(hid_channels, hid_channels, kernel_size=3, stride=2, padding=1, output_padding = 1),\n",
    "                                 nn.GroupNorm(2, hid_channels),\n",
    "                                 nn.LeakyReLU(0.2),\n",
    "                                 \n",
    "                                 nn.ConvTranspose2d(hid_channels, hid_channels, kernel_size=3, stride=1, padding=1),\n",
    "                                 nn.GroupNorm(2, hid_channels),\n",
    "                                 nn.LeakyReLU(0.2),\n",
    "                                 \n",
    "                                 nn.ConvTranspose2d(hid_channels, hid_channels, kernel_size=3, stride=2, padding=1, output_padding = 1),\n",
    "                                 nn.GroupNorm(2, hid_channels),\n",
    "                                 nn.LeakyReLU(0.2))\n",
    "        self.out_dec = nn.Sequential(nn.ConvTranspose2d(2*hid_channels, hid_channels, kernel_size=3, stride=1, padding=1),\n",
    "                                 nn.GroupNorm(2, hid_channels),\n",
    "                                 nn.LeakyReLU(0.2))\n",
    "        \n",
    "        self.out = nn.Conv2d(hid_channels, out_channels, 1)\n",
    "        \n",
    "    def forward(self, x, enc):\n",
    "#         print(f'x shape:{x.shape}, enc shape:{enc.shape}')\n",
    "#         for dec_layer in self.dec:\n",
    "        x = self.dec(x)\n",
    "#             print(f'x shape:{x.shape}, enc shape:{enc.shape}')\n",
    "\n",
    "#         print(f'x shape:{x.shape}, enc shape:{enc.shape}')\n",
    "        y = self.out_dec(torch.cat([x, enc], dim=1))\n",
    "        y = self.out(y)\n",
    "        return y"
   ]
  },
  {
   "cell_type": "code",
   "execution_count": 14,
   "id": "9a2b8809",
   "metadata": {},
   "outputs": [],
   "source": [
    "class SimVP(nn.Module):\n",
    "    def __init__(self, shape_in, hidden_size=16, translator_size=256, incep_ker=[3,5,7,11], groups=8):\n",
    "        super().__init__()\n",
    "        T, C, H, W = shape_in\n",
    "        self.enc = Encoder(C, hidden_size)\n",
    "        self.hid = Translator(T*hidden_size, translator_size, 8, incep_ker, groups)\n",
    "        self.dec = Decoder(hidden_size, C)\n",
    "\n",
    "\n",
    "    def forward(self, x_raw):\n",
    "        B, T, C, H, W = x_raw.shape\n",
    "        x = x_raw.view(B*T, C, H, W)\n",
    "\n",
    "        embed, skip = self.enc(x)\n",
    "        _, C_, H_, W_ = embed.shape\n",
    "\n",
    "        z = embed.view(B, T, C_, H_, W_)\n",
    "        hid = self.hid(z)\n",
    "        hid = hid.reshape(B*T, C_, H_, W_)\n",
    "\n",
    "        Y = self.dec(hid, skip)\n",
    "        Y = Y.reshape(B, T, C, H, W)\n",
    "        return Y"
   ]
  },
  {
   "cell_type": "code",
   "execution_count": 19,
   "id": "bb765ff2",
   "metadata": {},
   "outputs": [
    {
     "data": {
      "text/plain": [
       "torch.Size([5, 11, 3, 160, 240])"
      ]
     },
     "execution_count": 19,
     "metadata": {},
     "output_type": "execute_result"
    }
   ],
   "source": [
    "model = SimVP((11, 3, 160, 240),64, 512, groups = 4)\n",
    "model = model.to(device)\n",
    "result = model(x.to(device))\n",
    "result.shape"
   ]
  },
  {
   "cell_type": "code",
   "execution_count": 20,
   "id": "69f2123a",
   "metadata": {},
   "outputs": [
    {
     "data": {
      "text/plain": [
       "torch.Size([5, 11, 3, 160, 240])"
      ]
     },
     "execution_count": 20,
     "metadata": {},
     "output_type": "execute_result"
    }
   ],
   "source": [
    "x.shape"
   ]
  },
  {
   "cell_type": "code",
   "execution_count": 21,
   "id": "2738686c",
   "metadata": {},
   "outputs": [
    {
     "data": {
      "text/plain": [
       "torch.Size([5, 11, 3, 160, 240])"
      ]
     },
     "execution_count": 21,
     "metadata": {},
     "output_type": "execute_result"
    }
   ],
   "source": [
    "y.shape"
   ]
  },
  {
   "cell_type": "code",
   "execution_count": null,
   "id": "9d3fcde3",
   "metadata": {},
   "outputs": [
    {
     "name": "stderr",
     "output_type": "stream",
     "text": [
      "train loss: 0.2004: 100%|██████████████████████████████████████████████████████████████████████████████████████████████████████| 1/1 [01:51<00:00, 111.44s/it]\n",
      "train loss: 0.1305: 100%|███████████████████████████████████████████████████████████████████████████████████████████████████████| 1/1 [01:21<00:00, 81.38s/it]\n",
      "  0%|                                                                                                                                   | 0/1 [00:00<?, ?it/s]"
     ]
    }
   ],
   "source": [
    "# Training Loop:\n",
    "\n",
    "best_model_path = './checkpoint.pth' # load saved model to restart from previous best model (lowest val loss) checkpoint\n",
    "\n",
    "# recorder = Recorder(verbose=True)\n",
    "if os.path.isfile(best_model_path):\n",
    "    model.load_state_dict(torch.load(best_model_path))\n",
    "\n",
    "    \n",
    "num_epochs = 20\n",
    "lr = 0.001\n",
    "criterion = torch.nn.MSELoss()\n",
    "optimizer = torch.optim.Adam(model.parameters(), lr)\n",
    "scheduler = torch.optim.lr_scheduler.OneCycleLR(optimizer, max_lr=lr, steps_per_epoch=len(train_loader), epochs=num_epochs)\n",
    "\n",
    "train_losses = []\n",
    "\n",
    "for epoch in range(num_epochs):\n",
    "    train_loss = []\n",
    "    model.train()\n",
    "    train_pbar = tqdm(train_loader)\n",
    "    count = 0\n",
    "\n",
    "    for batch_x, batch_y in train_pbar:\n",
    "        #print(count)\n",
    "        optimizer.zero_grad()\n",
    "        batch_x, batch_y = batch_x.to(device), batch_y.to(device)\n",
    "        pred_y = model(batch_x)\n",
    "\n",
    "        #pred_y_norm = pred_y / 255.0\n",
    "        #batch_y_norm = batch_y / 255.0\n",
    "\n",
    "        loss = criterion(pred_y, batch_y)\n",
    "        train_loss.append(loss.item())\n",
    "        train_pbar.set_description('train loss: {:.4f}'.format(loss.item()))\n",
    "\n",
    "        loss.backward()\n",
    "        optimizer.step()\n",
    "        scheduler.step()\n",
    "        count = count + 1\n",
    "        torch.cuda.empty_cache()\n",
    "        #if count == 50: \n",
    "        #    break\n",
    "    train_loss = np.average(train_loss)\n",
    "    train_losses.append(train_loss)\n",
    "\n",
    "### TODO: VALIDATION\n",
    "\n",
    "#     if epoch % 10 == 0:\n",
    "#         with torch.no_grad():\n",
    "#             vali_loss = self.vali(self.vali_loader)\n",
    "#             torch.cuda.empty_cache()\n",
    "#             #if epoch % (args.log_step * 100) == 0:\n",
    "#             self._save(name=str(epoch))\n",
    "#         print_log(\"Epoch: {0} | Train Loss: {1:.4f} Vali Loss: {2:.4f}\\n\".format(\n",
    "#             epoch + 1, train_loss, vali_loss))\n",
    "#         recorder(vali_loss, self.model, self.path)\n",
    "\n",
    "#         wandb.log({'train_loss': train_loss, 'vali_loss': vali_loss, 'epoch': epoch})\n",
    "\n",
    "\n",
    "torch.save(model.state_dict(), './checkpoint.pth')\n",
    "\n",
    "model.load_state_dict(torch.load(best_model_path))\n"
   ]
  },
  {
   "cell_type": "code",
   "execution_count": null,
   "id": "40053859",
   "metadata": {},
   "outputs": [],
   "source": []
  },
  {
   "cell_type": "code",
   "execution_count": null,
   "id": "99a42545",
   "metadata": {},
   "outputs": [],
   "source": []
  }
 ],
 "metadata": {
  "kernelspec": {
   "display_name": "Python 3 (ipykernel)",
   "language": "python",
   "name": "python3"
  },
  "language_info": {
   "codemirror_mode": {
    "name": "ipython",
    "version": 3
   },
   "file_extension": ".py",
   "mimetype": "text/x-python",
   "name": "python",
   "nbconvert_exporter": "python",
   "pygments_lexer": "ipython3",
   "version": "3.10.7"
  }
 },
 "nbformat": 4,
 "nbformat_minor": 5
}
