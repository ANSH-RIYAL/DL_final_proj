{
 "cells": [
  {
   "cell_type": "code",
   "execution_count": 19,
   "id": "f4db0bae",
   "metadata": {},
   "outputs": [],
   "source": [
    "import matplotlib.pyplot as plt\n",
    "from tqdm import tqdm\n",
    "import os\n",
    "\n",
    "\n",
    "import torch\n",
    "import torch.nn as nn\n",
    "import torch.optim as optim\n",
    "import torch.nn.functional as F\n",
    "from torch.utils.data import Dataset, DataLoader"
   ]
  },
  {
   "cell_type": "code",
   "execution_count": 20,
   "id": "335d7547",
   "metadata": {},
   "outputs": [
    {
     "name": "stdout",
     "output_type": "stream",
     "text": [
      "mps\n"
     ]
    }
   ],
   "source": [
    "# device = torch.device('cuda' if torch.backends.cuda.is_available() else 'cpu')\n",
    "device = torch.device('mps' if torch.backends.mps.is_available() else 'cpu')\n",
    "print(device)"
   ]
  },
  {
   "cell_type": "code",
   "execution_count": 21,
   "id": "16ed8c44",
   "metadata": {},
   "outputs": [
    {
     "data": {
      "text/plain": [
       "['image_15.png',\n",
       " 'image_14.png',\n",
       " 'image_16.png',\n",
       " 'image_17.png',\n",
       " 'image_13.png',\n",
       " 'image_12.png',\n",
       " 'image_10.png',\n",
       " 'image_11.png',\n",
       " 'image_8.png',\n",
       " 'image_9.png',\n",
       " 'image_2.png',\n",
       " 'image_3.png',\n",
       " 'image_1.png',\n",
       " 'image_0.png',\n",
       " 'image_4.png',\n",
       " 'image_5.png',\n",
       " 'image_7.png',\n",
       " 'image_6.png',\n",
       " 'image_20.png',\n",
       " 'image_21.png',\n",
       " 'image_19.png',\n",
       " 'image_18.png']"
      ]
     },
     "execution_count": 21,
     "metadata": {},
     "output_type": "execute_result"
    }
   ],
   "source": [
    "os.listdir('./../Dataset_Student/unlabeled/video_10000')"
   ]
  },
  {
   "cell_type": "code",
   "execution_count": 22,
   "id": "fc1ea061",
   "metadata": {},
   "outputs": [
    {
     "data": {
      "text/plain": [
       "(160, 240, 3)"
      ]
     },
     "execution_count": 22,
     "metadata": {},
     "output_type": "execute_result"
    }
   ],
   "source": [
    "frames = []\n",
    "\n",
    "base_dir = './../Dataset_Student/unlabeled/video_10000/'\n",
    "\n",
    "image_names = [f'image_{i}.png' for i in range(22)]\n",
    "\n",
    "for file_name in image_names:\n",
    "    img = plt.imread(base_dir + file_name)\n",
    "    frames.append(img)\n",
    "# plt.imshow(frames[3])\n",
    "frames[3].shape"
   ]
  },
  {
   "cell_type": "code",
   "execution_count": 29,
   "id": "ba672ac6",
   "metadata": {},
   "outputs": [],
   "source": [
    "class CustomDataset(Dataset):\n",
    "    def __init__(self, n_videos):\n",
    "        self.video_idxs = torch.tensor([i for i in range(10000, n_videos+10000)])\n",
    "\n",
    "    def __len__(self):\n",
    "        return len(self.video_idxs)\n",
    "\n",
    "    def __getitem__(self, idx):\n",
    "#         global net_id\n",
    "        i = self.video_idxs[idx]\n",
    "        file_path = f'./../Dataset_Student/unlabeled/video_{i}/'\n",
    "        x = []\n",
    "        for j in range(11):\n",
    "            x.append(torch.tensor(plt.imread(file_path+f'image_{j}.png')).permute(2, 0, 1))\n",
    "        x = torch.stack(x, 0)\n",
    "        y = []\n",
    "        for j in range(11, 22):\n",
    "            y.append(torch.tensor(plt.imread(file_path+f'image_{j}.png')).permute(2, 0, 1))\n",
    "        y = torch.stack(y, 0)\n",
    "        return x, y"
   ]
  },
  {
   "cell_type": "code",
   "execution_count": 30,
   "id": "f26dc01d",
   "metadata": {},
   "outputs": [],
   "source": [
    "batch_size = 8\n",
    "\n",
    "# Create DataLoader\n",
    "train_dataset = CustomDataset(3)\n",
    "train_loader = DataLoader(train_dataset, batch_size=batch_size, shuffle=True)"
   ]
  },
  {
   "cell_type": "code",
   "execution_count": 31,
   "id": "99867f46",
   "metadata": {},
   "outputs": [
    {
     "name": "stdout",
     "output_type": "stream",
     "text": [
      "torch.Size([3, 11, 3, 160, 240]) torch.Size([3, 11, 3, 160, 240])\n"
     ]
    }
   ],
   "source": [
    "for x, y in train_loader:\n",
    "    print(x.shape, y.shape)\n",
    "    break"
   ]
  },
  {
   "cell_type": "code",
   "execution_count": null,
   "id": "65df6ffa",
   "metadata": {},
   "outputs": [],
   "source": [
    "# [1, 2, 1, 2]"
   ]
  },
  {
   "cell_type": "code",
   "execution_count": null,
   "id": "e6e6008e",
   "metadata": {},
   "outputs": [],
   "source": [
    "class Encoder(nn.Module):\n",
    "    def __init__(self, in_channels, hid_channels):\n",
    "        super().__init__()\n",
    "        self.inp_enc = nn.Sequential(nn.Conv2d(in_channels, hid_channels, kernel_size=3, stride=1, padding=1),\n",
    "                                 nn.GroupNorm(2, hid_channels),\n",
    "                                 nn.LeakyReLU(0.2))\n",
    "        self.enc = nn.Sequential(nn.Conv2d(hid_channels, hid_channels, kernel_size=3, stride=2, padding=1),\n",
    "                                 nn.GroupNorm(2, hid_channels),\n",
    "                                 nn.LeakyReLU(0.2),\n",
    "                                 nn.Conv2d(hid_channels, hid_channels, kernel_size=3, stride=1, padding=1),\n",
    "                                 nn.GroupNorm(2, hid_channels),\n",
    "                                 nn.LeakyReLU(0.2),\n",
    "                                 nn.Conv2d(hid_channels, hid_channels, kernel_size=3, stride=2, padding=1),\n",
    "                                 nn.GroupNorm(2, hid_channels),\n",
    "                                 nn.LeakyReLU(0.2))\n",
    "    def forward(self, x):\n",
    "        b, t, c, h, w = x.shape\n",
    "        x = self.inp_enc(x.view(b*t, c, h, w))\n",
    "        x = self.inp_enc(x)\n",
    "        res = x.clone()\n",
    "        x = self.enc(x)\n",
    "        return x, res"
   ]
  },
  {
   "cell_type": "code",
   "execution_count": null,
   "id": "40d317cf",
   "metadata": {},
   "outputs": [],
   "source": []
  }
 ],
 "metadata": {
  "kernelspec": {
   "display_name": "Python 3 (ipykernel)",
   "language": "python",
   "name": "python3"
  },
  "language_info": {
   "codemirror_mode": {
    "name": "ipython",
    "version": 3
   },
   "file_extension": ".py",
   "mimetype": "text/x-python",
   "name": "python",
   "nbconvert_exporter": "python",
   "pygments_lexer": "ipython3",
   "version": "3.9.13"
  }
 },
 "nbformat": 4,
 "nbformat_minor": 5
}
