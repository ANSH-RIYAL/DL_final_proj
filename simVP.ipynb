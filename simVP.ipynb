{
 "cells": [
  {
   "cell_type": "code",
   "execution_count": 23,
   "id": "f4db0bae",
   "metadata": {},
   "outputs": [],
   "source": [
    "import matplotlib.pyplot as plt\n",
    "from tqdm import tqdm\n",
    "import os\n",
    "\n",
    "\n",
    "import torch\n",
    "import torch.nn as nn\n",
    "import torch.optim as optim\n",
    "import torch.nn.functional as F\n",
    "from torch.utils.data import Dataset, DataLoader"
   ]
  },
  {
   "cell_type": "code",
   "execution_count": 24,
   "id": "335d7547",
   "metadata": {},
   "outputs": [
    {
     "name": "stdout",
     "output_type": "stream",
     "text": [
      "mps\n"
     ]
    }
   ],
   "source": [
    "# device = torch.device('cuda' if torch.backends.cuda.is_available() else 'cpu')\n",
    "device = torch.device('mps' if torch.backends.mps.is_available() else 'cpu')\n",
    "print(device)"
   ]
  },
  {
   "cell_type": "code",
   "execution_count": 25,
   "id": "16ed8c44",
   "metadata": {},
   "outputs": [
    {
     "data": {
      "text/plain": [
       "['image_15.png',\n",
       " 'image_14.png',\n",
       " 'image_16.png',\n",
       " 'image_17.png',\n",
       " 'image_13.png',\n",
       " 'image_12.png',\n",
       " 'image_10.png',\n",
       " 'image_11.png',\n",
       " 'image_8.png',\n",
       " 'image_9.png',\n",
       " 'image_2.png',\n",
       " 'image_3.png',\n",
       " 'image_1.png',\n",
       " 'image_0.png',\n",
       " 'image_4.png',\n",
       " 'image_5.png',\n",
       " 'image_7.png',\n",
       " 'image_6.png',\n",
       " 'image_20.png',\n",
       " 'image_21.png',\n",
       " 'image_19.png',\n",
       " 'image_18.png']"
      ]
     },
     "execution_count": 25,
     "metadata": {},
     "output_type": "execute_result"
    }
   ],
   "source": [
    "os.listdir('./../../../Dataset_Student/unlabeled/video_10000/')"
   ]
  },
  {
   "cell_type": "code",
   "execution_count": 26,
   "id": "fc1ea061",
   "metadata": {},
   "outputs": [
    {
     "data": {
      "text/plain": [
       "(160, 240, 3)"
      ]
     },
     "execution_count": 26,
     "metadata": {},
     "output_type": "execute_result"
    }
   ],
   "source": [
    "frames = []\n",
    "\n",
    "base_dir = './../../../Dataset_Student/unlabeled/video_10000/'\n",
    "\n",
    "image_names = [f'image_{i}.png' for i in range(22)]\n",
    "\n",
    "for file_name in image_names:\n",
    "    img = plt.imread(base_dir + file_name)\n",
    "    frames.append(img)\n",
    "# plt.imshow(frames[3])\n",
    "frames[3].shape"
   ]
  },
  {
   "cell_type": "code",
   "execution_count": 27,
   "id": "ba672ac6",
   "metadata": {},
   "outputs": [],
   "source": [
    "class CustomDataset(Dataset):\n",
    "    def __init__(self, n_videos):\n",
    "        self.video_idxs = torch.tensor([i for i in range(10000, n_videos+10000)])\n",
    "\n",
    "    def __len__(self):\n",
    "        return len(self.video_idxs)\n",
    "\n",
    "    def __getitem__(self, idx):\n",
    "#         global net_id\n",
    "        i = self.video_idxs[idx]\n",
    "        file_path = f'./../../../Dataset_Student/unlabeled/video_{i}/'\n",
    "        x = []\n",
    "        for j in range(11):\n",
    "            x.append(torch.tensor(plt.imread(file_path+f'image_{j}.png')).permute(2, 0, 1))\n",
    "        x = torch.stack(x, 0)\n",
    "        y = []\n",
    "        for j in range(11, 22):\n",
    "            y.append(torch.tensor(plt.imread(file_path+f'image_{j}.png')).permute(2, 0, 1))\n",
    "        y = torch.stack(y, 0)\n",
    "        return x, y"
   ]
  },
  {
   "cell_type": "code",
   "execution_count": 28,
   "id": "f26dc01d",
   "metadata": {},
   "outputs": [],
   "source": [
    "batch_size = 8\n",
    "\n",
    "# Create DataLoader\n",
    "train_dataset = CustomDataset(5)\n",
    "train_loader = DataLoader(train_dataset, batch_size=batch_size, shuffle=True)"
   ]
  },
  {
   "cell_type": "code",
   "execution_count": 29,
   "id": "99867f46",
   "metadata": {},
   "outputs": [
    {
     "name": "stdout",
     "output_type": "stream",
     "text": [
      "torch.Size([5, 11, 3, 160, 240]) torch.Size([5, 11, 3, 160, 240])\n"
     ]
    }
   ],
   "source": [
    "for x, y in train_loader:\n",
    "    print(x.shape, y.shape)\n",
    "    break"
   ]
  },
  {
   "cell_type": "code",
   "execution_count": 30,
   "id": "65df6ffa",
   "metadata": {},
   "outputs": [],
   "source": [
    "# [1, 2, 1, 2]"
   ]
  },
  {
   "cell_type": "code",
   "execution_count": 31,
   "id": "e6e6008e",
   "metadata": {},
   "outputs": [],
   "source": [
    "class Encoder(nn.Module):\n",
    "    def __init__(self, in_channels, hid_channels):\n",
    "        super().__init__()\n",
    "        self.inp_enc = nn.Sequential(nn.Conv2d(in_channels, hid_channels, kernel_size=3, stride=1, padding=1),\n",
    "                                 nn.GroupNorm(2, hid_channels),\n",
    "                                 nn.LeakyReLU(0.2))\n",
    "        self.enc = nn.Sequential(nn.Conv2d(hid_channels, hid_channels, kernel_size=3, stride=2, padding=1),\n",
    "                                 nn.GroupNorm(2, hid_channels),\n",
    "                                 nn.LeakyReLU(0.2),\n",
    "                                 nn.Conv2d(hid_channels, hid_channels, kernel_size=3, stride=1, padding=1),\n",
    "                                 nn.GroupNorm(2, hid_channels),\n",
    "                                 nn.LeakyReLU(0.2),\n",
    "                                 nn.Conv2d(hid_channels, hid_channels, kernel_size=3, stride=2, padding=1),\n",
    "                                 nn.GroupNorm(2, hid_channels),\n",
    "                                 nn.LeakyReLU(0.2))\n",
    "    def forward(self, x):\n",
    "        b, t, c, h, w = x.shape\n",
    "        x = self.inp_enc(x.view(b*t, c, h, w))\n",
    "        x = self.inp_enc(x)\n",
    "        res = x.clone()\n",
    "        x = self.enc(x)\n",
    "        return x, res"
   ]
  },
  {
   "cell_type": "code",
   "execution_count": 32,
   "id": "2fa6f77d",
   "metadata": {},
   "outputs": [],
   "source": [
    "class GroupConv2d(nn.Module):\n",
    "    def __init__(self, in_channels, out_channels, kernel_size, stride, padding, groups, act_norm=False):\n",
    "        super(GroupConv2d, self).__init__()\n",
    "        self.act_norm = act_norm\n",
    "        if in_channels % groups != 0:\n",
    "            groups = 1\n",
    "        self.conv = nn.Conv2d(in_channels, out_channels, kernel_size=kernel_size, stride=stride, \n",
    "                              padding=padding,groups=groups)\n",
    "        self.norm = nn.GroupNorm(groups,out_channels)\n",
    "        self.activate = nn.LeakyReLU(0.2)\n",
    "    \n",
    "    def forward(self, x):\n",
    "        y = self.conv(x)\n",
    "        if self.act_norm:\n",
    "            y = self.activate(self.norm(y))\n",
    "        return y"
   ]
  },
  {
   "cell_type": "code",
   "execution_count": 33,
   "id": "5d25dfe9",
   "metadata": {},
   "outputs": [],
   "source": [
    "class Inception(nn.Module):\n",
    "    def __init__(self, C_in, C_hid, C_out, incep_ker=[3,5,7,11], groups=8):        \n",
    "        super().__init__()\n",
    "        self.conv1 = nn.Conv2d(C_in, C_hid, kernel_size=1, stride=1, padding=0)\n",
    "        layers = []\n",
    "        for ker in incep_ker:\n",
    "            layers.append(GroupConv2d(C_hid, C_out, kernel_size=ker, stride=1, padding=ker//2, \n",
    "                                      groups=groups, act_norm=True))\n",
    "        self.layers = nn.Sequential(*layers)\n",
    "\n",
    "    def forward(self, x):\n",
    "        x = self.conv1(x)\n",
    "        y = 0\n",
    "        for layer in self.layers:\n",
    "            y += layer(x)\n",
    "        return y"
   ]
  },
  {
   "cell_type": "code",
   "execution_count": 34,
   "id": "542317c0",
   "metadata": {},
   "outputs": [],
   "source": [
    "class Translator(nn.Module):\n",
    "    def __init__(self, channel_in, channel_hid, N_T, incep_ker=[3,5,7,11], groups=8):\n",
    "        super().__init__()\n",
    "\n",
    "        self.N_T = N_T\n",
    "        enc_layers = [Inception(channel_in, channel_hid//2, channel_hid, incep_ker= incep_ker, groups=groups)]\n",
    "        for i in range(1, N_T-1):\n",
    "            enc_layers.append(Inception(channel_hid, channel_hid//2, channel_hid, incep_ker= incep_ker, groups=groups))\n",
    "        enc_layers.append(Inception(channel_hid, channel_hid//2, channel_hid, incep_ker= incep_ker, groups=groups))\n",
    "\n",
    "        dec_layers = [Inception(channel_hid, channel_hid//2, channel_hid, incep_ker= incep_ker, groups=groups)]\n",
    "        for i in range(1, N_T-1):\n",
    "            dec_layers.append(Inception(2*channel_hid, channel_hid//2, channel_hid, incep_ker= incep_ker, groups=groups))\n",
    "        dec_layers.append(Inception(2*channel_hid, channel_hid//2, channel_in, incep_ker= incep_ker, groups=groups))\n",
    "\n",
    "        self.enc = nn.Sequential(*enc_layers)\n",
    "        self.dec = nn.Sequential(*dec_layers)\n",
    "\n",
    "    def forward(self, x):\n",
    "        B, T, C, H, W = x.shape\n",
    "        x = x.reshape(B, T*C, H, W)\n",
    "\n",
    "        # Encoder\n",
    "        skips = []\n",
    "        z = x\n",
    "        for i in range(self.N_T):\n",
    "            z = self.enc[i](z)\n",
    "            if i < self.N_T - 1:\n",
    "                skips.append(z)\n",
    "\n",
    "        # Decoder\n",
    "        z = self.dec[0](z)\n",
    "        for i in range(1, self.N_T):\n",
    "            z = self.dec[i](torch.cat([z, skips[-i]], dim=1))\n",
    "\n",
    "        y = z.reshape(B, T, C, H, W)\n",
    "        return y"
   ]
  },
  {
   "cell_type": "code",
   "execution_count": 35,
   "id": "1eda0645",
   "metadata": {},
   "outputs": [],
   "source": [
    "# [2, 1, 2, 1]\n",
    "class Decoder(nn.Module):\n",
    "    def __init__(self, hid_channels, out_channels):\n",
    "        super().__init__()\n",
    "        self.dec = nn.Sequential(nn.ConvTranspose2d(hid_channels, hid_channels, kernel_size=3, stride=2, padding=1),\n",
    "                                 nn.GroupNorm(2, hid_channels),\n",
    "                                 nn.LeakyReLU(0.2),\n",
    "                                 nn.ConvTranspose2d(hid_channels, hid_channels, kernel_size=3, stride=1, padding=1),\n",
    "                                 nn.GroupNorm(2, hid_channels),\n",
    "                                 nn.LeakyReLU(0.2),\n",
    "                                 nn.ConvTranspose2d(hid_channels, hid_channels, kernel_size=3, stride=2, padding=1),\n",
    "                                 nn.GroupNorm(2, hid_channels),\n",
    "                                 nn.LeakyReLU(0.2))\n",
    "        self.out_dec = nn.Sequential(nn.ConvTranspose2d(2*hid_channels, hid_channels, kernel_size=3, stride=1, padding=1),\n",
    "                                 nn.GroupNorm(2, hid_channels),\n",
    "                                 nn.LeakyReLU(0.2))\n",
    "        \n",
    "        self.out = nn.Conv2d(hid_channels, out_channels, 1)\n",
    "        \n",
    "    def forward(self, x, enc):\n",
    "        x = self.dec(x)\n",
    "        y = self.out_dec(torch.cat([x, enc], dim=1))\n",
    "        y = self.out(y)\n",
    "        return y"
   ]
  },
  {
   "cell_type": "code",
   "execution_count": 42,
   "id": "9a2b8809",
   "metadata": {},
   "outputs": [],
   "source": [
    "class SimVP(nn.Module):\n",
    "    def __init__(self, shape_in, hidden_size=16, translator_size=256, incep_ker=[3,5,7,11], groups=8):\n",
    "        super().__init__()\n",
    "        T, C, H, W = shape_in\n",
    "        self.enc = Encoder(C, hidden_size)\n",
    "        self.hid = Translator(T*hidden_size, translator_size, 8, incep_ker, groups)\n",
    "        self.dec = Decoder(hidden_size, C)\n",
    "\n",
    "\n",
    "    def forward(self, x_raw):\n",
    "        B, T, C, H, W = x_raw.shape\n",
    "        x = x_raw.view(B*T, C, H, W)\n",
    "\n",
    "        embed, skip = self.enc(x)\n",
    "        _, C_, H_, W_ = embed.shape\n",
    "\n",
    "        z = embed.view(B, T, C_, H_, W_)\n",
    "        hid = self.hid(z)\n",
    "        hid = hid.reshape(B*T, C_, H_, W_)\n",
    "\n",
    "        Y = self.dec(hid, skip)\n",
    "        Y = Y.reshape(B, T, C, H, W)\n",
    "        return Y"
   ]
  },
  {
   "cell_type": "code",
   "execution_count": 44,
   "id": "bb765ff2",
   "metadata": {},
   "outputs": [
    {
     "ename": "ValueError",
     "evalue": "not enough values to unpack (expected 5, got 4)",
     "output_type": "error",
     "traceback": [
      "\u001b[0;31m---------------------------------------------------------------------------\u001b[0m",
      "\u001b[0;31mValueError\u001b[0m                                Traceback (most recent call last)",
      "Cell \u001b[0;32mIn[44], line 2\u001b[0m\n\u001b[1;32m      1\u001b[0m model \u001b[38;5;241m=\u001b[39m SimVP(shape_in\u001b[38;5;241m=\u001b[39m(\u001b[38;5;241m11\u001b[39m, \u001b[38;5;241m3\u001b[39m, \u001b[38;5;241m160\u001b[39m, \u001b[38;5;241m240\u001b[39m))\n\u001b[0;32m----> 2\u001b[0m \u001b[43mmodel\u001b[49m\u001b[43m(\u001b[49m\u001b[43mx\u001b[49m\u001b[43m)\u001b[49m\n",
      "File \u001b[0;32m~/opt/anaconda3/lib/python3.9/site-packages/torch/nn/modules/module.py:1501\u001b[0m, in \u001b[0;36mModule._call_impl\u001b[0;34m(self, *args, **kwargs)\u001b[0m\n\u001b[1;32m   1496\u001b[0m \u001b[38;5;66;03m# If we don't have any hooks, we want to skip the rest of the logic in\u001b[39;00m\n\u001b[1;32m   1497\u001b[0m \u001b[38;5;66;03m# this function, and just call forward.\u001b[39;00m\n\u001b[1;32m   1498\u001b[0m \u001b[38;5;28;01mif\u001b[39;00m \u001b[38;5;129;01mnot\u001b[39;00m (\u001b[38;5;28mself\u001b[39m\u001b[38;5;241m.\u001b[39m_backward_hooks \u001b[38;5;129;01mor\u001b[39;00m \u001b[38;5;28mself\u001b[39m\u001b[38;5;241m.\u001b[39m_backward_pre_hooks \u001b[38;5;129;01mor\u001b[39;00m \u001b[38;5;28mself\u001b[39m\u001b[38;5;241m.\u001b[39m_forward_hooks \u001b[38;5;129;01mor\u001b[39;00m \u001b[38;5;28mself\u001b[39m\u001b[38;5;241m.\u001b[39m_forward_pre_hooks\n\u001b[1;32m   1499\u001b[0m         \u001b[38;5;129;01mor\u001b[39;00m _global_backward_pre_hooks \u001b[38;5;129;01mor\u001b[39;00m _global_backward_hooks\n\u001b[1;32m   1500\u001b[0m         \u001b[38;5;129;01mor\u001b[39;00m _global_forward_hooks \u001b[38;5;129;01mor\u001b[39;00m _global_forward_pre_hooks):\n\u001b[0;32m-> 1501\u001b[0m     \u001b[38;5;28;01mreturn\u001b[39;00m \u001b[43mforward_call\u001b[49m\u001b[43m(\u001b[49m\u001b[38;5;241;43m*\u001b[39;49m\u001b[43margs\u001b[49m\u001b[43m,\u001b[49m\u001b[43m \u001b[49m\u001b[38;5;241;43m*\u001b[39;49m\u001b[38;5;241;43m*\u001b[39;49m\u001b[43mkwargs\u001b[49m\u001b[43m)\u001b[49m\n\u001b[1;32m   1502\u001b[0m \u001b[38;5;66;03m# Do not call functions when jit is used\u001b[39;00m\n\u001b[1;32m   1503\u001b[0m full_backward_hooks, non_full_backward_hooks \u001b[38;5;241m=\u001b[39m [], []\n",
      "Cell \u001b[0;32mIn[42], line 14\u001b[0m, in \u001b[0;36mSimVP.forward\u001b[0;34m(self, x_raw)\u001b[0m\n\u001b[1;32m     11\u001b[0m B, T, C, H, W \u001b[38;5;241m=\u001b[39m x_raw\u001b[38;5;241m.\u001b[39mshape\n\u001b[1;32m     12\u001b[0m x \u001b[38;5;241m=\u001b[39m x_raw\u001b[38;5;241m.\u001b[39mview(B\u001b[38;5;241m*\u001b[39mT, C, H, W)\n\u001b[0;32m---> 14\u001b[0m embed, skip \u001b[38;5;241m=\u001b[39m \u001b[38;5;28;43mself\u001b[39;49m\u001b[38;5;241;43m.\u001b[39;49m\u001b[43menc\u001b[49m\u001b[43m(\u001b[49m\u001b[43mx\u001b[49m\u001b[43m)\u001b[49m\n\u001b[1;32m     15\u001b[0m _, C_, H_, W_ \u001b[38;5;241m=\u001b[39m embed\u001b[38;5;241m.\u001b[39mshape\n\u001b[1;32m     17\u001b[0m z \u001b[38;5;241m=\u001b[39m embed\u001b[38;5;241m.\u001b[39mview(B, T, C_, H_, W_)\n",
      "File \u001b[0;32m~/opt/anaconda3/lib/python3.9/site-packages/torch/nn/modules/module.py:1501\u001b[0m, in \u001b[0;36mModule._call_impl\u001b[0;34m(self, *args, **kwargs)\u001b[0m\n\u001b[1;32m   1496\u001b[0m \u001b[38;5;66;03m# If we don't have any hooks, we want to skip the rest of the logic in\u001b[39;00m\n\u001b[1;32m   1497\u001b[0m \u001b[38;5;66;03m# this function, and just call forward.\u001b[39;00m\n\u001b[1;32m   1498\u001b[0m \u001b[38;5;28;01mif\u001b[39;00m \u001b[38;5;129;01mnot\u001b[39;00m (\u001b[38;5;28mself\u001b[39m\u001b[38;5;241m.\u001b[39m_backward_hooks \u001b[38;5;129;01mor\u001b[39;00m \u001b[38;5;28mself\u001b[39m\u001b[38;5;241m.\u001b[39m_backward_pre_hooks \u001b[38;5;129;01mor\u001b[39;00m \u001b[38;5;28mself\u001b[39m\u001b[38;5;241m.\u001b[39m_forward_hooks \u001b[38;5;129;01mor\u001b[39;00m \u001b[38;5;28mself\u001b[39m\u001b[38;5;241m.\u001b[39m_forward_pre_hooks\n\u001b[1;32m   1499\u001b[0m         \u001b[38;5;129;01mor\u001b[39;00m _global_backward_pre_hooks \u001b[38;5;129;01mor\u001b[39;00m _global_backward_hooks\n\u001b[1;32m   1500\u001b[0m         \u001b[38;5;129;01mor\u001b[39;00m _global_forward_hooks \u001b[38;5;129;01mor\u001b[39;00m _global_forward_pre_hooks):\n\u001b[0;32m-> 1501\u001b[0m     \u001b[38;5;28;01mreturn\u001b[39;00m \u001b[43mforward_call\u001b[49m\u001b[43m(\u001b[49m\u001b[38;5;241;43m*\u001b[39;49m\u001b[43margs\u001b[49m\u001b[43m,\u001b[49m\u001b[43m \u001b[49m\u001b[38;5;241;43m*\u001b[39;49m\u001b[38;5;241;43m*\u001b[39;49m\u001b[43mkwargs\u001b[49m\u001b[43m)\u001b[49m\n\u001b[1;32m   1502\u001b[0m \u001b[38;5;66;03m# Do not call functions when jit is used\u001b[39;00m\n\u001b[1;32m   1503\u001b[0m full_backward_hooks, non_full_backward_hooks \u001b[38;5;241m=\u001b[39m [], []\n",
      "Cell \u001b[0;32mIn[31], line 17\u001b[0m, in \u001b[0;36mEncoder.forward\u001b[0;34m(self, x)\u001b[0m\n\u001b[1;32m     16\u001b[0m \u001b[38;5;28;01mdef\u001b[39;00m \u001b[38;5;21mforward\u001b[39m(\u001b[38;5;28mself\u001b[39m, x):\n\u001b[0;32m---> 17\u001b[0m     b, t, c, h, w \u001b[38;5;241m=\u001b[39m x\u001b[38;5;241m.\u001b[39mshape\n\u001b[1;32m     18\u001b[0m     x \u001b[38;5;241m=\u001b[39m \u001b[38;5;28mself\u001b[39m\u001b[38;5;241m.\u001b[39minp_enc(x\u001b[38;5;241m.\u001b[39mview(b\u001b[38;5;241m*\u001b[39mt, c, h, w))\n\u001b[1;32m     19\u001b[0m     x \u001b[38;5;241m=\u001b[39m \u001b[38;5;28mself\u001b[39m\u001b[38;5;241m.\u001b[39minp_enc(x)\n",
      "\u001b[0;31mValueError\u001b[0m: not enough values to unpack (expected 5, got 4)"
     ]
    }
   ],
   "source": [
    "model = SimVP(shape_in=(11, 3, 160, 240))\n",
    "model(x)"
   ]
  },
  {
   "cell_type": "code",
   "execution_count": null,
   "id": "69f2123a",
   "metadata": {},
   "outputs": [],
   "source": []
  }
 ],
 "metadata": {
  "kernelspec": {
   "display_name": "Python 3 (ipykernel)",
   "language": "python",
   "name": "python3"
  },
  "language_info": {
   "codemirror_mode": {
    "name": "ipython",
    "version": 3
   },
   "file_extension": ".py",
   "mimetype": "text/x-python",
   "name": "python",
   "nbconvert_exporter": "python",
   "pygments_lexer": "ipython3",
   "version": "3.9.13"
  }
 },
 "nbformat": 4,
 "nbformat_minor": 5
}
